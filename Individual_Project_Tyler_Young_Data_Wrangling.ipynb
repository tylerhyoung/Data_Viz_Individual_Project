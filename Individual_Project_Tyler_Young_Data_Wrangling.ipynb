{
 "cells": [
  {
   "cell_type": "code",
   "execution_count": 3,
   "metadata": {},
   "outputs": [],
   "source": [
    "import pandas as pd\n",
    "import numpy as np\n",
    "import seaborn as sns\n",
    "import matplotlib.pyplot as plt"
   ]
  },
  {
   "cell_type": "markdown",
   "metadata": {},
   "source": [
    "# World Firearm Statistics"
   ]
  },
  {
   "cell_type": "code",
   "execution_count": 4,
   "metadata": {},
   "outputs": [],
   "source": [
    "df = pd.read_csv(\"world_firearms.csv\")"
   ]
  },
  {
   "cell_type": "code",
   "execution_count": 5,
   "metadata": {},
   "outputs": [
    {
     "data": {
      "text/html": [
       "<div>\n",
       "<style scoped>\n",
       "    .dataframe tbody tr th:only-of-type {\n",
       "        vertical-align: middle;\n",
       "    }\n",
       "\n",
       "    .dataframe tbody tr th {\n",
       "        vertical-align: top;\n",
       "    }\n",
       "\n",
       "    .dataframe thead th {\n",
       "        text-align: right;\n",
       "    }\n",
       "</style>\n",
       "<table border=\"1\" class=\"dataframe\">\n",
       "  <thead>\n",
       "    <tr style=\"text-align: right;\">\n",
       "      <th></th>\n",
       "      <th>Country/Territory</th>\n",
       "      <th>ISO code</th>\n",
       "      <th>Source</th>\n",
       "      <th>% of homicides by firearm</th>\n",
       "      <th>Number of homicides by firearm</th>\n",
       "      <th>Homicide by firearm rate per 100,000 pop</th>\n",
       "      <th>Rank by rate of ownership</th>\n",
       "      <th>Average firearms per 100 people</th>\n",
       "      <th>Average total all civilian firearms</th>\n",
       "    </tr>\n",
       "  </thead>\n",
       "  <tbody>\n",
       "    <tr>\n",
       "      <th>0</th>\n",
       "      <td>Albania</td>\n",
       "      <td>AL</td>\n",
       "      <td>CTS</td>\n",
       "      <td>65.9</td>\n",
       "      <td>56.0</td>\n",
       "      <td>1.76</td>\n",
       "      <td>70.0</td>\n",
       "      <td>8.6</td>\n",
       "      <td>270000.0</td>\n",
       "    </tr>\n",
       "    <tr>\n",
       "      <th>1</th>\n",
       "      <td>Algeria</td>\n",
       "      <td>DZ</td>\n",
       "      <td>CTS</td>\n",
       "      <td>4.8</td>\n",
       "      <td>20.0</td>\n",
       "      <td>0.06</td>\n",
       "      <td>78.0</td>\n",
       "      <td>7.6</td>\n",
       "      <td>1900000.0</td>\n",
       "    </tr>\n",
       "    <tr>\n",
       "      <th>2</th>\n",
       "      <td>Angola</td>\n",
       "      <td>AO</td>\n",
       "      <td>NaN</td>\n",
       "      <td>NaN</td>\n",
       "      <td>NaN</td>\n",
       "      <td>NaN</td>\n",
       "      <td>34.0</td>\n",
       "      <td>17.3</td>\n",
       "      <td>2800000.0</td>\n",
       "    </tr>\n",
       "    <tr>\n",
       "      <th>3</th>\n",
       "      <td>Anguilla</td>\n",
       "      <td>AI</td>\n",
       "      <td>WHO-MDB</td>\n",
       "      <td>24.0</td>\n",
       "      <td>1.0</td>\n",
       "      <td>7.14</td>\n",
       "      <td>NaN</td>\n",
       "      <td>NaN</td>\n",
       "      <td>NaN</td>\n",
       "    </tr>\n",
       "    <tr>\n",
       "      <th>4</th>\n",
       "      <td>Argentina</td>\n",
       "      <td>AR</td>\n",
       "      <td>Ministry of Justice</td>\n",
       "      <td>52.0</td>\n",
       "      <td>1198.0</td>\n",
       "      <td>3.02</td>\n",
       "      <td>62.0</td>\n",
       "      <td>10.2</td>\n",
       "      <td>3950000.0</td>\n",
       "    </tr>\n",
       "  </tbody>\n",
       "</table>\n",
       "</div>"
      ],
      "text/plain": [
       "  Country/Territory ISO code               Source  % of homicides by firearm  \\\n",
       "0           Albania       AL                  CTS                       65.9   \n",
       "1           Algeria       DZ                  CTS                        4.8   \n",
       "2            Angola       AO                  NaN                        NaN   \n",
       "3          Anguilla       AI              WHO-MDB                       24.0   \n",
       "4         Argentina       AR  Ministry of Justice                       52.0   \n",
       "\n",
       "   Number of homicides by firearm  Homicide by firearm rate per 100,000 pop  \\\n",
       "0                            56.0                                      1.76   \n",
       "1                            20.0                                      0.06   \n",
       "2                             NaN                                       NaN   \n",
       "3                             1.0                                      7.14   \n",
       "4                          1198.0                                      3.02   \n",
       "\n",
       "   Rank by rate of ownership  Average firearms per 100 people  \\\n",
       "0                       70.0                              8.6   \n",
       "1                       78.0                              7.6   \n",
       "2                       34.0                             17.3   \n",
       "3                        NaN                              NaN   \n",
       "4                       62.0                             10.2   \n",
       "\n",
       "   Average total all civilian firearms  \n",
       "0                             270000.0  \n",
       "1                            1900000.0  \n",
       "2                            2800000.0  \n",
       "3                                  NaN  \n",
       "4                            3950000.0  "
      ]
     },
     "execution_count": 5,
     "metadata": {},
     "output_type": "execute_result"
    }
   ],
   "source": [
    "df.head(5)"
   ]
  },
  {
   "cell_type": "code",
   "execution_count": 7,
   "metadata": {},
   "outputs": [
    {
     "data": {
      "text/plain": [
       "644008400.0"
      ]
     },
     "execution_count": 7,
     "metadata": {},
     "output_type": "execute_result"
    }
   ],
   "source": [
    "df['Average total all civilian firearms'].sum()"
   ]
  },
  {
   "cell_type": "code",
   "execution_count": 8,
   "metadata": {},
   "outputs": [
    {
     "data": {
      "text/plain": [
       "176    0.419249\n",
       "Name: Average total all civilian firearms, dtype: float64"
      ]
     },
     "execution_count": 8,
     "metadata": {},
     "output_type": "execute_result"
    }
   ],
   "source": [
    "df['Average total all civilian firearms'][df['Country/Territory']=='United States']/df['Average total all civilian firearms'].sum()"
   ]
  },
  {
   "cell_type": "markdown",
   "metadata": {},
   "source": [
    "Almost 42% of total civilian firearms in the world are in the United States."
   ]
  },
  {
   "cell_type": "markdown",
   "metadata": {},
   "source": [
    "#### Obtain and merge human develompent index data from 2007 with matching firearm data"
   ]
  },
  {
   "cell_type": "code",
   "execution_count": 9,
   "metadata": {},
   "outputs": [],
   "source": [
    "hdi = pd.read_csv(\"HDI.csv\")"
   ]
  },
  {
   "cell_type": "code",
   "execution_count": 10,
   "metadata": {},
   "outputs": [],
   "source": [
    "hdi['Country'] = hdi['Country'].apply(lambda x: x.lstrip(\" \"))"
   ]
  },
  {
   "cell_type": "code",
   "execution_count": 11,
   "metadata": {},
   "outputs": [],
   "source": [
    "hdi = hdi[['Country', '2007']]"
   ]
  },
  {
   "cell_type": "code",
   "execution_count": 12,
   "metadata": {},
   "outputs": [],
   "source": [
    "df1 = hdi.merge(df, right_on=\"Country/Territory\", left_on=\"Country\", how = \"right\")"
   ]
  },
  {
   "cell_type": "code",
   "execution_count": 15,
   "metadata": {},
   "outputs": [],
   "source": [
    "df1 = df1.rename(columns = {\"2007\":\"HDI\", \"Homicide by firearm rate per 100,000 pop\":\"Homicides_per_100\",\n",
    "                           \"Average firearms per 100 people\":\"Firearms_per_100\"})"
   ]
  },
  {
   "cell_type": "code",
   "execution_count": 181,
   "metadata": {},
   "outputs": [
    {
     "data": {
      "text/html": [
       "<div>\n",
       "<style scoped>\n",
       "    .dataframe tbody tr th:only-of-type {\n",
       "        vertical-align: middle;\n",
       "    }\n",
       "\n",
       "    .dataframe tbody tr th {\n",
       "        vertical-align: top;\n",
       "    }\n",
       "\n",
       "    .dataframe thead th {\n",
       "        text-align: right;\n",
       "    }\n",
       "</style>\n",
       "<table border=\"1\" class=\"dataframe\">\n",
       "  <thead>\n",
       "    <tr style=\"text-align: right;\">\n",
       "      <th></th>\n",
       "      <th>Country</th>\n",
       "      <th>HDI</th>\n",
       "      <th>Country/Territory</th>\n",
       "      <th>ISO code</th>\n",
       "      <th>Source</th>\n",
       "      <th>% of homicides by firearm</th>\n",
       "      <th>Number of homicides by firearm</th>\n",
       "      <th>Homicides_per_100</th>\n",
       "      <th>Rank by rate of ownership</th>\n",
       "      <th>Firearms_per_100</th>\n",
       "      <th>Average total all civilian firearms</th>\n",
       "    </tr>\n",
       "  </thead>\n",
       "  <tbody>\n",
       "    <tr>\n",
       "      <th>0</th>\n",
       "      <td>Albania</td>\n",
       "      <td>0.713</td>\n",
       "      <td>Albania</td>\n",
       "      <td>AL</td>\n",
       "      <td>CTS</td>\n",
       "      <td>65.9</td>\n",
       "      <td>56.0</td>\n",
       "      <td>1.76</td>\n",
       "      <td>70.0</td>\n",
       "      <td>8.6</td>\n",
       "      <td>270000.0</td>\n",
       "    </tr>\n",
       "    <tr>\n",
       "      <th>1</th>\n",
       "      <td>Algeria</td>\n",
       "      <td>0.697</td>\n",
       "      <td>Algeria</td>\n",
       "      <td>DZ</td>\n",
       "      <td>CTS</td>\n",
       "      <td>4.8</td>\n",
       "      <td>20.0</td>\n",
       "      <td>0.06</td>\n",
       "      <td>78.0</td>\n",
       "      <td>7.6</td>\n",
       "      <td>1900000.0</td>\n",
       "    </tr>\n",
       "    <tr>\n",
       "      <th>2</th>\n",
       "      <td>Angola</td>\n",
       "      <td>0.468</td>\n",
       "      <td>Angola</td>\n",
       "      <td>AO</td>\n",
       "      <td>NaN</td>\n",
       "      <td>NaN</td>\n",
       "      <td>NaN</td>\n",
       "      <td>NaN</td>\n",
       "      <td>34.0</td>\n",
       "      <td>17.3</td>\n",
       "      <td>2800000.0</td>\n",
       "    </tr>\n",
       "    <tr>\n",
       "      <th>3</th>\n",
       "      <td>Argentina</td>\n",
       "      <td>0.792</td>\n",
       "      <td>Argentina</td>\n",
       "      <td>AR</td>\n",
       "      <td>Ministry of Justice</td>\n",
       "      <td>52.0</td>\n",
       "      <td>1198.0</td>\n",
       "      <td>3.02</td>\n",
       "      <td>62.0</td>\n",
       "      <td>10.2</td>\n",
       "      <td>3950000.0</td>\n",
       "    </tr>\n",
       "    <tr>\n",
       "      <th>4</th>\n",
       "      <td>Armenia</td>\n",
       "      <td>0.721</td>\n",
       "      <td>Armenia</td>\n",
       "      <td>AM</td>\n",
       "      <td>CTS</td>\n",
       "      <td>13.0</td>\n",
       "      <td>9.0</td>\n",
       "      <td>0.29</td>\n",
       "      <td>52.0</td>\n",
       "      <td>12.5</td>\n",
       "      <td>380000.0</td>\n",
       "    </tr>\n",
       "  </tbody>\n",
       "</table>\n",
       "</div>"
      ],
      "text/plain": [
       "     Country    HDI Country/Territory ISO code               Source  \\\n",
       "0    Albania  0.713           Albania       AL                  CTS   \n",
       "1    Algeria  0.697           Algeria       DZ                  CTS   \n",
       "2     Angola  0.468            Angola       AO                  NaN   \n",
       "3  Argentina  0.792         Argentina       AR  Ministry of Justice   \n",
       "4    Armenia  0.721           Armenia       AM                  CTS   \n",
       "\n",
       "   % of homicides by firearm  Number of homicides by firearm  \\\n",
       "0                       65.9                            56.0   \n",
       "1                        4.8                            20.0   \n",
       "2                        NaN                             NaN   \n",
       "3                       52.0                          1198.0   \n",
       "4                       13.0                             9.0   \n",
       "\n",
       "   Homicides_per_100  Rank by rate of ownership  Firearms_per_100  \\\n",
       "0               1.76                       70.0               8.6   \n",
       "1               0.06                       78.0               7.6   \n",
       "2                NaN                       34.0              17.3   \n",
       "3               3.02                       62.0              10.2   \n",
       "4               0.29                       52.0              12.5   \n",
       "\n",
       "   Average total all civilian firearms  \n",
       "0                             270000.0  \n",
       "1                            1900000.0  \n",
       "2                            2800000.0  \n",
       "3                            3950000.0  \n",
       "4                             380000.0  "
      ]
     },
     "execution_count": 181,
     "metadata": {},
     "output_type": "execute_result"
    }
   ],
   "source": [
    "df1.head()"
   ]
  },
  {
   "cell_type": "code",
   "execution_count": 208,
   "metadata": {},
   "outputs": [],
   "source": [
    "df1['HDI_rank'] = df1.HDI.rank(ascending = False, method = 'min')"
   ]
  },
  {
   "cell_type": "code",
   "execution_count": 209,
   "metadata": {},
   "outputs": [],
   "source": [
    "df1.to_csv('2007_world_guns.csv')"
   ]
  },
  {
   "cell_type": "markdown",
   "metadata": {},
   "source": [
    "## Gun Control Laws"
   ]
  },
  {
   "cell_type": "code",
   "execution_count": 132,
   "metadata": {},
   "outputs": [],
   "source": [
    "laws = pd.read_csv(\"gun_laws.csv\")"
   ]
  },
  {
   "cell_type": "code",
   "execution_count": 133,
   "metadata": {},
   "outputs": [],
   "source": [
    "laws2016 = laws[laws.year == 2016]"
   ]
  },
  {
   "cell_type": "markdown",
   "metadata": {},
   "source": [
    "Categories of Gun Control Laws to be analyzed:\n",
    "\n",
    "3 - Limiting access to High Risk Individuals,\n",
    "4 - Background Checks,\n",
    "7 - Limiting Concealed Carry,\n",
    "8 - Ban/Limit Assault weapons,\n",
    "9 - Child Safety Laws,"
   ]
  },
  {
   "cell_type": "code",
   "execution_count": 156,
   "metadata": {},
   "outputs": [],
   "source": [
    "def laws(x):\n",
    "    names = ['state','lawtotal']\n",
    "    for i in x:\n",
    "        if i.startswith('3'):\n",
    "            names.append(i)\n",
    "        if i.startswith('4'):\n",
    "            names.append(i)\n",
    "        if i.startswith('7'):\n",
    "            names.append(i)\n",
    "        if i.startswith('8'):\n",
    "            names.append(i)\n",
    "        if i.startswith('9'):\n",
    "            names.append(i)\n",
    "    return names"
   ]
  },
  {
   "cell_type": "code",
   "execution_count": 157,
   "metadata": {},
   "outputs": [],
   "source": [
    "colnames = laws(laws2016.columns)"
   ]
  },
  {
   "cell_type": "code",
   "execution_count": 161,
   "metadata": {},
   "outputs": [],
   "source": [
    "laws2016 = laws2016[colnames]"
   ]
  },
  {
   "cell_type": "code",
   "execution_count": 171,
   "metadata": {},
   "outputs": [
    {
     "name": "stderr",
     "output_type": "stream",
     "text": [
      "/anaconda2/lib/python2.7/site-packages/ipykernel_launcher.py:3: SettingWithCopyWarning: \n",
      "A value is trying to be set on a copy of a slice from a DataFrame.\n",
      "Try using .loc[row_indexer,col_indexer] = value instead\n",
      "\n",
      "See the caveats in the documentation: http://pandas.pydata.org/pandas-docs/stable/indexing.html#indexing-view-versus-copy\n",
      "  This is separate from the ipykernel package so we can avoid doing imports until\n"
     ]
    }
   ],
   "source": [
    "laws2016['high_risk'] = laws2016['3 - violentpartial']+laws2016['3 - violenth']+laws2016['3 - violent']+laws2016[\n",
    "    '3 - invoutpatient']+laws2016['3 - invcommitment']+laws2016['3 - felony']+laws2016['3 - drugmisdemeanor']+laws2016[\n",
    "    '3 - danger']+laws2016['3 - alctreatment']+laws2016['3 - alcoholism']"
   ]
  },
  {
   "cell_type": "code",
   "execution_count": 173,
   "metadata": {},
   "outputs": [
    {
     "name": "stderr",
     "output_type": "stream",
     "text": [
      "/anaconda2/lib/python2.7/site-packages/ipykernel_launcher.py:3: SettingWithCopyWarning: \n",
      "A value is trying to be set on a copy of a slice from a DataFrame.\n",
      "Try using .loc[row_indexer,col_indexer] = value instead\n",
      "\n",
      "See the caveats in the documentation: http://pandas.pydata.org/pandas-docs/stable/indexing.html#indexing-view-versus-copy\n",
      "  This is separate from the ipykernel package so we can avoid doing imports until\n"
     ]
    }
   ],
   "source": [
    "laws2016['background'] = laws2016['4 - universalpermith']+laws2016['4 - universalpermit']+laws2016['4 - universalh']+laws2016[\n",
    "    '4 - statechecks']+laws2016['4 - statechecksh']+laws2016['4 - universal']+laws2016['4 - threedaylimit']+laws2016[\n",
    "    '4 - mentalhealth']+laws2016['4 - gunshowh']+laws2016['4 - gunshow']+laws2016['4 - backgroundpurge']"
   ]
  },
  {
   "cell_type": "code",
   "execution_count": 176,
   "metadata": {},
   "outputs": [
    {
     "name": "stderr",
     "output_type": "stream",
     "text": [
      "/anaconda2/lib/python2.7/site-packages/ipykernel_launcher.py:2: SettingWithCopyWarning: \n",
      "A value is trying to be set on a copy of a slice from a DataFrame.\n",
      "Try using .loc[row_indexer,col_indexer] = value instead\n",
      "\n",
      "See the caveats in the documentation: http://pandas.pydata.org/pandas-docs/stable/indexing.html#indexing-view-versus-copy\n",
      "  \n"
     ]
    }
   ],
   "source": [
    "laws2016['concealed'] = laws2016['7 - showing']+laws2016['7 - permitconcealed']+laws2016['7 - mayissue']+laws2016[\n",
    "    '7 - ccrevoke']+laws2016['7 - ccrenewbackground']+laws2016['7 - ccbackgroundnics']+laws2016['7 - ccbackground']"
   ]
  },
  {
   "cell_type": "code",
   "execution_count": 177,
   "metadata": {},
   "outputs": [
    {
     "name": "stderr",
     "output_type": "stream",
     "text": [
      "/anaconda2/lib/python2.7/site-packages/ipykernel_launcher.py:2: SettingWithCopyWarning: \n",
      "A value is trying to be set on a copy of a slice from a DataFrame.\n",
      "Try using .loc[row_indexer,col_indexer] = value instead\n",
      "\n",
      "See the caveats in the documentation: http://pandas.pydata.org/pandas-docs/stable/indexing.html#indexing-view-versus-copy\n",
      "  \n"
     ]
    }
   ],
   "source": [
    "laws2016['assault'] = laws2016['8 - tenroundlimit']+laws2016['8 - magazinepreowned']+laws2016['8 - magazine']+laws2016[\n",
    "    '8 - assaulttransfer']+laws2016['8 - assaultregister']+laws2016['8 - assaultlist']+laws2016['8 - assault']"
   ]
  },
  {
   "cell_type": "code",
   "execution_count": 178,
   "metadata": {},
   "outputs": [
    {
     "name": "stderr",
     "output_type": "stream",
     "text": [
      "/anaconda2/lib/python2.7/site-packages/ipykernel_launcher.py:3: SettingWithCopyWarning: \n",
      "A value is trying to be set on a copy of a slice from a DataFrame.\n",
      "Try using .loc[row_indexer,col_indexer] = value instead\n",
      "\n",
      "See the caveats in the documentation: http://pandas.pydata.org/pandas-docs/stable/indexing.html#indexing-view-versus-copy\n",
      "  This is separate from the ipykernel package so we can avoid doing imports until\n"
     ]
    }
   ],
   "source": [
    "laws2016['child'] = laws2016['9 - cap14']+laws2016['9 - cap16']+laws2016['9 - cap18']+laws2016[\n",
    "    '9 - capaccess']+laws2016['9 - capliability']+laws2016['9 - capunloaded']+laws2016['9 - capuses']+laws2016[\n",
    "    '9 - lockd']+laws2016['9 - locked']+laws2016['9 - lockp']+laws2016['9 - lockstandards']"
   ]
  },
  {
   "cell_type": "code",
   "execution_count": 180,
   "metadata": {},
   "outputs": [],
   "source": [
    "laws2016.to_csv('2016_gunlaws.csv')"
   ]
  },
  {
   "cell_type": "markdown",
   "metadata": {},
   "source": [
    "### Violent Crime Stats by State"
   ]
  },
  {
   "cell_type": "code",
   "execution_count": 23,
   "metadata": {},
   "outputs": [],
   "source": [
    "state_violence = pd.read_csv('gun-violence-13-18.csv')"
   ]
  },
  {
   "cell_type": "code",
   "execution_count": 27,
   "metadata": {},
   "outputs": [],
   "source": [
    "state_violence['Year'] = state_violence.date.apply(lambda x: x[0:4])"
   ]
  },
  {
   "cell_type": "code",
   "execution_count": 97,
   "metadata": {},
   "outputs": [],
   "source": [
    "state_violence2016 = state_violence[state_violence.Year == '2016']"
   ]
  },
  {
   "cell_type": "markdown",
   "metadata": {},
   "source": [
    "Load Population data from 2016 by state and merge to calcluate rates."
   ]
  },
  {
   "cell_type": "code",
   "execution_count": 98,
   "metadata": {},
   "outputs": [],
   "source": [
    "pop = pd.read_csv('2016_populations.csv')"
   ]
  },
  {
   "cell_type": "code",
   "execution_count": 99,
   "metadata": {},
   "outputs": [],
   "source": [
    "pop['State'] = pop['State'].apply(lambda x:x.replace(\".\",\"\"))"
   ]
  },
  {
   "cell_type": "code",
   "execution_count": 100,
   "metadata": {},
   "outputs": [],
   "source": [
    "state_violence2016 = state_violence2016.merge(pop, left_on='state', right_on='State', how = 'left')"
   ]
  },
  {
   "cell_type": "code",
   "execution_count": 106,
   "metadata": {},
   "outputs": [],
   "source": [
    "state_gb = state_violence2016.groupby('state').agg({'incident_id':'count',\n",
    "    'n_killed':'sum', 'n_injured':'sum', 'Population':'max', 'Firearms':'max'}).reset_index()"
   ]
  },
  {
   "cell_type": "code",
   "execution_count": 109,
   "metadata": {},
   "outputs": [],
   "source": [
    "state_gb['firearms_per_100k'] = (state_gb['Firearms']/state_gb['Population'])*100000"
   ]
  },
  {
   "cell_type": "code",
   "execution_count": 108,
   "metadata": {},
   "outputs": [],
   "source": [
    "state_gb['incidence_per_100k'] = (state_gb['incident_id']/state_gb['Population'])*100000"
   ]
  },
  {
   "cell_type": "code",
   "execution_count": 113,
   "metadata": {},
   "outputs": [],
   "source": [
    "state_gb['deaths_per_100k'] = (state_gb['n_killed']/state_gb['Population'])*100000"
   ]
  },
  {
   "cell_type": "code",
   "execution_count": 115,
   "metadata": {},
   "outputs": [],
   "source": [
    "state_gb['injured_per_100k'] = (state_gb['n_injured']/state_gb['Population'])*100000"
   ]
  },
  {
   "cell_type": "code",
   "execution_count": 116,
   "metadata": {},
   "outputs": [],
   "source": [
    "state_gb['inj_killed_per_100k'] = ((state_gb['n_injured']+state_gb['n_killed'])/state_gb['Population'])*100000"
   ]
  },
  {
   "cell_type": "code",
   "execution_count": 200,
   "metadata": {},
   "outputs": [
    {
     "data": {
      "text/html": [
       "<div>\n",
       "<style scoped>\n",
       "    .dataframe tbody tr th:only-of-type {\n",
       "        vertical-align: middle;\n",
       "    }\n",
       "\n",
       "    .dataframe tbody tr th {\n",
       "        vertical-align: top;\n",
       "    }\n",
       "\n",
       "    .dataframe thead th {\n",
       "        text-align: right;\n",
       "    }\n",
       "</style>\n",
       "<table border=\"1\" class=\"dataframe\">\n",
       "  <thead>\n",
       "    <tr style=\"text-align: right;\">\n",
       "      <th></th>\n",
       "      <th>state</th>\n",
       "      <th>incident_id</th>\n",
       "      <th>n_killed</th>\n",
       "      <th>Firearms</th>\n",
       "      <th>n_injured</th>\n",
       "      <th>Population</th>\n",
       "      <th>incidence_per_100k</th>\n",
       "      <th>firearms_per_100k</th>\n",
       "      <th>deaths_per_100k</th>\n",
       "      <th>injured_per_100k</th>\n",
       "      <th>inj_killed_per_100k</th>\n",
       "    </tr>\n",
       "  </thead>\n",
       "  <tbody>\n",
       "    <tr>\n",
       "      <th>0</th>\n",
       "      <td>Alabama</td>\n",
       "      <td>1309</td>\n",
       "      <td>488</td>\n",
       "      <td>161641</td>\n",
       "      <td>761</td>\n",
       "      <td>4863300</td>\n",
       "      <td>26.915880</td>\n",
       "      <td>3323.689676</td>\n",
       "      <td>10.034339</td>\n",
       "      <td>15.647811</td>\n",
       "      <td>25.682150</td>\n",
       "    </tr>\n",
       "    <tr>\n",
       "      <th>1</th>\n",
       "      <td>Alaska</td>\n",
       "      <td>445</td>\n",
       "      <td>88</td>\n",
       "      <td>15824</td>\n",
       "      <td>103</td>\n",
       "      <td>741894</td>\n",
       "      <td>59.981615</td>\n",
       "      <td>2132.919258</td>\n",
       "      <td>11.861533</td>\n",
       "      <td>13.883385</td>\n",
       "      <td>25.744918</td>\n",
       "    </tr>\n",
       "    <tr>\n",
       "      <th>2</th>\n",
       "      <td>Arizona</td>\n",
       "      <td>554</td>\n",
       "      <td>277</td>\n",
       "      <td>179738</td>\n",
       "      <td>294</td>\n",
       "      <td>6931071</td>\n",
       "      <td>7.992993</td>\n",
       "      <td>2593.221163</td>\n",
       "      <td>3.996496</td>\n",
       "      <td>4.241769</td>\n",
       "      <td>8.238265</td>\n",
       "    </tr>\n",
       "    <tr>\n",
       "      <th>3</th>\n",
       "      <td>Arkansas</td>\n",
       "      <td>720</td>\n",
       "      <td>190</td>\n",
       "      <td>79841</td>\n",
       "      <td>351</td>\n",
       "      <td>2988248</td>\n",
       "      <td>24.094386</td>\n",
       "      <td>2671.833128</td>\n",
       "      <td>6.358241</td>\n",
       "      <td>11.746013</td>\n",
       "      <td>18.104254</td>\n",
       "    </tr>\n",
       "    <tr>\n",
       "      <th>4</th>\n",
       "      <td>California</td>\n",
       "      <td>3617</td>\n",
       "      <td>1265</td>\n",
       "      <td>344622</td>\n",
       "      <td>1896</td>\n",
       "      <td>39250017</td>\n",
       "      <td>9.215283</td>\n",
       "      <td>878.017454</td>\n",
       "      <td>3.222929</td>\n",
       "      <td>4.830571</td>\n",
       "      <td>8.053500</td>\n",
       "    </tr>\n",
       "    <tr>\n",
       "      <th>5</th>\n",
       "      <td>Colorado</td>\n",
       "      <td>812</td>\n",
       "      <td>207</td>\n",
       "      <td>92435</td>\n",
       "      <td>299</td>\n",
       "      <td>5540545</td>\n",
       "      <td>14.655598</td>\n",
       "      <td>1668.337682</td>\n",
       "      <td>3.736095</td>\n",
       "      <td>5.396581</td>\n",
       "      <td>9.132676</td>\n",
       "    </tr>\n",
       "    <tr>\n",
       "      <th>6</th>\n",
       "      <td>Connecticut</td>\n",
       "      <td>803</td>\n",
       "      <td>68</td>\n",
       "      <td>82400</td>\n",
       "      <td>358</td>\n",
       "      <td>3576452</td>\n",
       "      <td>22.452419</td>\n",
       "      <td>2303.959343</td>\n",
       "      <td>1.901326</td>\n",
       "      <td>10.009920</td>\n",
       "      <td>11.911246</td>\n",
       "    </tr>\n",
       "    <tr>\n",
       "      <th>7</th>\n",
       "      <td>Delaware</td>\n",
       "      <td>328</td>\n",
       "      <td>42</td>\n",
       "      <td>4852</td>\n",
       "      <td>187</td>\n",
       "      <td>952065</td>\n",
       "      <td>34.451429</td>\n",
       "      <td>509.629069</td>\n",
       "      <td>4.411464</td>\n",
       "      <td>19.641516</td>\n",
       "      <td>24.052980</td>\n",
       "    </tr>\n",
       "    <tr>\n",
       "      <th>8</th>\n",
       "      <td>District of Columbia</td>\n",
       "      <td>497</td>\n",
       "      <td>106</td>\n",
       "      <td>47228</td>\n",
       "      <td>339</td>\n",
       "      <td>681170</td>\n",
       "      <td>72.962697</td>\n",
       "      <td>6933.364652</td>\n",
       "      <td>15.561460</td>\n",
       "      <td>49.767312</td>\n",
       "      <td>65.328773</td>\n",
       "    </tr>\n",
       "    <tr>\n",
       "      <th>9</th>\n",
       "      <td>Florida</td>\n",
       "      <td>4201</td>\n",
       "      <td>1001</td>\n",
       "      <td>343288</td>\n",
       "      <td>1846</td>\n",
       "      <td>20612439</td>\n",
       "      <td>20.380897</td>\n",
       "      <td>1665.440950</td>\n",
       "      <td>4.856291</td>\n",
       "      <td>8.955757</td>\n",
       "      <td>13.812048</td>\n",
       "    </tr>\n",
       "  </tbody>\n",
       "</table>\n",
       "</div>"
      ],
      "text/plain": [
       "                  state  incident_id  n_killed  Firearms  n_injured  \\\n",
       "0               Alabama         1309       488    161641        761   \n",
       "1                Alaska          445        88     15824        103   \n",
       "2               Arizona          554       277    179738        294   \n",
       "3              Arkansas          720       190     79841        351   \n",
       "4            California         3617      1265    344622       1896   \n",
       "5              Colorado          812       207     92435        299   \n",
       "6           Connecticut          803        68     82400        358   \n",
       "7              Delaware          328        42      4852        187   \n",
       "8  District of Columbia          497       106     47228        339   \n",
       "9               Florida         4201      1001    343288       1846   \n",
       "\n",
       "   Population  incidence_per_100k  firearms_per_100k  deaths_per_100k  \\\n",
       "0     4863300           26.915880        3323.689676        10.034339   \n",
       "1      741894           59.981615        2132.919258        11.861533   \n",
       "2     6931071            7.992993        2593.221163         3.996496   \n",
       "3     2988248           24.094386        2671.833128         6.358241   \n",
       "4    39250017            9.215283         878.017454         3.222929   \n",
       "5     5540545           14.655598        1668.337682         3.736095   \n",
       "6     3576452           22.452419        2303.959343         1.901326   \n",
       "7      952065           34.451429         509.629069         4.411464   \n",
       "8      681170           72.962697        6933.364652        15.561460   \n",
       "9    20612439           20.380897        1665.440950         4.856291   \n",
       "\n",
       "   injured_per_100k  inj_killed_per_100k  \n",
       "0         15.647811            25.682150  \n",
       "1         13.883385            25.744918  \n",
       "2          4.241769             8.238265  \n",
       "3         11.746013            18.104254  \n",
       "4          4.830571             8.053500  \n",
       "5          5.396581             9.132676  \n",
       "6         10.009920            11.911246  \n",
       "7         19.641516            24.052980  \n",
       "8         49.767312            65.328773  \n",
       "9          8.955757            13.812048  "
      ]
     },
     "execution_count": 200,
     "metadata": {},
     "output_type": "execute_result"
    }
   ],
   "source": [
    "state_gb.head(10)"
   ]
  },
  {
   "cell_type": "code",
   "execution_count": 118,
   "metadata": {},
   "outputs": [],
   "source": [
    "state_gb.to_csv('2016_violence_by_state.csv')"
   ]
  }
 ],
 "metadata": {
  "kernelspec": {
   "display_name": "Python 2",
   "language": "python",
   "name": "python2"
  },
  "language_info": {
   "codemirror_mode": {
    "name": "ipython",
    "version": 2
   },
   "file_extension": ".py",
   "mimetype": "text/x-python",
   "name": "python",
   "nbconvert_exporter": "python",
   "pygments_lexer": "ipython2",
   "version": "2.7.14"
  }
 },
 "nbformat": 4,
 "nbformat_minor": 2
}

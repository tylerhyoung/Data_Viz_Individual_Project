{
 "cells": [
  {
   "cell_type": "code",
   "execution_count": 1,
   "metadata": {},
   "outputs": [],
   "source": [
    "import pandas as pd\n",
    "import numpy as np\n",
    "import seaborn as sns\n",
    "import matplotlib.pyplot as plt"
   ]
  },
  {
   "cell_type": "markdown",
   "metadata": {},
   "source": [
    "### Load Data on Homicide by Firearms in U.S."
   ]
  },
  {
   "cell_type": "markdown",
   "metadata": {},
   "source": [
    "Data from CDC Injury Prevention and Control report.\n",
    "https://www.cdc.gov/injury/wisqars/fatal.html"
   ]
  },
  {
   "cell_type": "code",
   "execution_count": 49,
   "metadata": {},
   "outputs": [],
   "source": [
    "df = pd.read_csv(\"fatal_injury1981-2016.csv\")"
   ]
  },
  {
   "cell_type": "code",
   "execution_count": 50,
   "metadata": {},
   "outputs": [
    {
     "data": {
      "text/html": [
       "<div>\n",
       "<style scoped>\n",
       "    .dataframe tbody tr th:only-of-type {\n",
       "        vertical-align: middle;\n",
       "    }\n",
       "\n",
       "    .dataframe tbody tr th {\n",
       "        vertical-align: top;\n",
       "    }\n",
       "\n",
       "    .dataframe thead th {\n",
       "        text-align: right;\n",
       "    }\n",
       "</style>\n",
       "<table border=\"1\" class=\"dataframe\">\n",
       "  <thead>\n",
       "    <tr style=\"text-align: right;\">\n",
       "      <th></th>\n",
       "      <th>Cause of Death</th>\n",
       "      <th>Year</th>\n",
       "      <th>Deaths</th>\n",
       "      <th>Population</th>\n",
       "      <th>Rate</th>\n",
       "      <th>Age-Adjusted Rate</th>\n",
       "    </tr>\n",
       "  </thead>\n",
       "  <tbody>\n",
       "    <tr>\n",
       "      <th>0</th>\n",
       "      <td>Homicide Firearm</td>\n",
       "      <td>1981</td>\n",
       "      <td>15089</td>\n",
       "      <td>229465316</td>\n",
       "      <td>6.58</td>\n",
       "      <td>6.340121</td>\n",
       "    </tr>\n",
       "    <tr>\n",
       "      <th>1</th>\n",
       "      <td>Homicide Firearm</td>\n",
       "      <td>1982</td>\n",
       "      <td>13830</td>\n",
       "      <td>231664211</td>\n",
       "      <td>5.97</td>\n",
       "      <td>5.738071</td>\n",
       "    </tr>\n",
       "    <tr>\n",
       "      <th>2</th>\n",
       "      <td>Homicide Firearm</td>\n",
       "      <td>1983</td>\n",
       "      <td>12040</td>\n",
       "      <td>233792237</td>\n",
       "      <td>5.15</td>\n",
       "      <td>4.923845</td>\n",
       "    </tr>\n",
       "  </tbody>\n",
       "</table>\n",
       "</div>"
      ],
      "text/plain": [
       "     Cause of Death  Year  Deaths  Population  Rate  Age-Adjusted Rate\n",
       "0  Homicide Firearm  1981   15089   229465316  6.58           6.340121\n",
       "1  Homicide Firearm  1982   13830   231664211  5.97           5.738071\n",
       "2  Homicide Firearm  1983   12040   233792237  5.15           4.923845"
      ]
     },
     "execution_count": 50,
     "metadata": {},
     "output_type": "execute_result"
    }
   ],
   "source": [
    "df.head(3)"
   ]
  },
  {
   "cell_type": "markdown",
   "metadata": {},
   "source": [
    "### Load  Data on Firearms Manufactured in the U.S."
   ]
  },
  {
   "cell_type": "markdown",
   "metadata": {},
   "source": [
    "Data from ATF's Annual Firearm Manufacturing and Exportation Report."
   ]
  },
  {
   "cell_type": "code",
   "execution_count": 51,
   "metadata": {},
   "outputs": [],
   "source": [
    "df1 = pd.read_csv('Firearms_manufactured.csv')"
   ]
  },
  {
   "cell_type": "code",
   "execution_count": 52,
   "metadata": {},
   "outputs": [
    {
     "data": {
      "text/html": [
       "<div>\n",
       "<style scoped>\n",
       "    .dataframe tbody tr th:only-of-type {\n",
       "        vertical-align: middle;\n",
       "    }\n",
       "\n",
       "    .dataframe tbody tr th {\n",
       "        vertical-align: top;\n",
       "    }\n",
       "\n",
       "    .dataframe thead th {\n",
       "        text-align: right;\n",
       "    }\n",
       "</style>\n",
       "<table border=\"1\" class=\"dataframe\">\n",
       "  <thead>\n",
       "    <tr style=\"text-align: right;\">\n",
       "      <th></th>\n",
       "      <th>Year</th>\n",
       "      <th>Total_Firearms</th>\n",
       "    </tr>\n",
       "  </thead>\n",
       "  <tbody>\n",
       "    <tr>\n",
       "      <th>0</th>\n",
       "      <td>1986.0</td>\n",
       "      <td>3040934</td>\n",
       "    </tr>\n",
       "    <tr>\n",
       "      <th>1</th>\n",
       "      <td>1987.0</td>\n",
       "      <td>3559663</td>\n",
       "    </tr>\n",
       "    <tr>\n",
       "      <th>2</th>\n",
       "      <td>1988.0</td>\n",
       "      <td>3963877</td>\n",
       "    </tr>\n",
       "  </tbody>\n",
       "</table>\n",
       "</div>"
      ],
      "text/plain": [
       "     Year Total_Firearms\n",
       "0  1986.0        3040934\n",
       "1  1987.0        3559663\n",
       "2  1988.0        3963877"
      ]
     },
     "execution_count": 52,
     "metadata": {},
     "output_type": "execute_result"
    }
   ],
   "source": [
    "df1.head(3)"
   ]
  },
  {
   "cell_type": "code",
   "execution_count": 53,
   "metadata": {},
   "outputs": [],
   "source": [
    "df2 = df.merge(df1, right_on = 'Year', left_on = 'Year', how = 'left')"
   ]
  },
  {
   "cell_type": "code",
   "execution_count": 54,
   "metadata": {},
   "outputs": [],
   "source": [
    "df2.rename(columns = {'Rate':'death_rate_per_100k'}, inplace = True)"
   ]
  },
  {
   "cell_type": "code",
   "execution_count": 55,
   "metadata": {},
   "outputs": [],
   "source": [
    "df2.dropna(axis = 0, inplace = True)"
   ]
  },
  {
   "cell_type": "code",
   "execution_count": 56,
   "metadata": {},
   "outputs": [],
   "source": [
    "df2['Total_Firearms'] = df2['Total_Firearms'].apply(pd.to_numeric)\n",
    "df2['Population'] = df2['Population'].apply(pd.to_numeric)"
   ]
  },
  {
   "cell_type": "code",
   "execution_count": 57,
   "metadata": {},
   "outputs": [],
   "source": [
    "df2['firearm_manufacturing_rate_per_1k'] = df2['Total_Firearms']/df2['Population']*1000"
   ]
  },
  {
   "cell_type": "code",
   "execution_count": 60,
   "metadata": {},
   "outputs": [
    {
     "data": {
      "text/html": [
       "<div>\n",
       "<style scoped>\n",
       "    .dataframe tbody tr th:only-of-type {\n",
       "        vertical-align: middle;\n",
       "    }\n",
       "\n",
       "    .dataframe tbody tr th {\n",
       "        vertical-align: top;\n",
       "    }\n",
       "\n",
       "    .dataframe thead th {\n",
       "        text-align: right;\n",
       "    }\n",
       "</style>\n",
       "<table border=\"1\" class=\"dataframe\">\n",
       "  <thead>\n",
       "    <tr style=\"text-align: right;\">\n",
       "      <th></th>\n",
       "      <th>Cause of Death</th>\n",
       "      <th>Year</th>\n",
       "      <th>Deaths</th>\n",
       "      <th>Population</th>\n",
       "      <th>death_rate_per_100k</th>\n",
       "      <th>Age-Adjusted Rate</th>\n",
       "      <th>Total_Firearms</th>\n",
       "      <th>firearm_manufacturing_rate_per_1k</th>\n",
       "    </tr>\n",
       "  </thead>\n",
       "  <tbody>\n",
       "    <tr>\n",
       "      <th>29</th>\n",
       "      <td>Homicide Firearm</td>\n",
       "      <td>2010</td>\n",
       "      <td>11078</td>\n",
       "      <td>308747508</td>\n",
       "      <td>3.59</td>\n",
       "      <td>3.621250</td>\n",
       "      <td>5459240</td>\n",
       "      <td>17.681892</td>\n",
       "    </tr>\n",
       "    <tr>\n",
       "      <th>30</th>\n",
       "      <td>Homicide Firearm</td>\n",
       "      <td>2011</td>\n",
       "      <td>11068</td>\n",
       "      <td>311663358</td>\n",
       "      <td>3.55</td>\n",
       "      <td>3.592311</td>\n",
       "      <td>6541886</td>\n",
       "      <td>20.990231</td>\n",
       "    </tr>\n",
       "    <tr>\n",
       "      <th>31</th>\n",
       "      <td>Homicide Firearm</td>\n",
       "      <td>2012</td>\n",
       "      <td>11622</td>\n",
       "      <td>313998379</td>\n",
       "      <td>3.70</td>\n",
       "      <td>3.756533</td>\n",
       "      <td>8578610</td>\n",
       "      <td>27.320555</td>\n",
       "    </tr>\n",
       "    <tr>\n",
       "      <th>32</th>\n",
       "      <td>Homicide Firearm</td>\n",
       "      <td>2013</td>\n",
       "      <td>11208</td>\n",
       "      <td>316204908</td>\n",
       "      <td>3.54</td>\n",
       "      <td>3.602796</td>\n",
       "      <td>10844792</td>\n",
       "      <td>34.296723</td>\n",
       "    </tr>\n",
       "    <tr>\n",
       "      <th>33</th>\n",
       "      <td>Homicide Firearm</td>\n",
       "      <td>2014</td>\n",
       "      <td>11008</td>\n",
       "      <td>318563456</td>\n",
       "      <td>3.46</td>\n",
       "      <td>3.528151</td>\n",
       "      <td>9050626</td>\n",
       "      <td>28.410748</td>\n",
       "    </tr>\n",
       "  </tbody>\n",
       "</table>\n",
       "</div>"
      ],
      "text/plain": [
       "      Cause of Death  Year  Deaths  Population  death_rate_per_100k  \\\n",
       "29  Homicide Firearm  2010   11078   308747508                 3.59   \n",
       "30  Homicide Firearm  2011   11068   311663358                 3.55   \n",
       "31  Homicide Firearm  2012   11622   313998379                 3.70   \n",
       "32  Homicide Firearm  2013   11208   316204908                 3.54   \n",
       "33  Homicide Firearm  2014   11008   318563456                 3.46   \n",
       "\n",
       "    Age-Adjusted Rate  Total_Firearms  firearm_manufacturing_rate_per_1k  \n",
       "29           3.621250         5459240                          17.681892  \n",
       "30           3.592311         6541886                          20.990231  \n",
       "31           3.756533         8578610                          27.320555  \n",
       "32           3.602796        10844792                          34.296723  \n",
       "33           3.528151         9050626                          28.410748  "
      ]
     },
     "execution_count": 60,
     "metadata": {},
     "output_type": "execute_result"
    }
   ],
   "source": [
    "df2.tail()"
   ]
  },
  {
   "cell_type": "code",
   "execution_count": 59,
   "metadata": {},
   "outputs": [],
   "source": [
    "df2.to_csv('homicide_rate_vs_firearms_manufactured.csv')"
   ]
  },
  {
   "cell_type": "code",
   "execution_count": null,
   "metadata": {},
   "outputs": [],
   "source": []
  }
 ],
 "metadata": {
  "kernelspec": {
   "display_name": "Python 2",
   "language": "python",
   "name": "python2"
  },
  "language_info": {
   "codemirror_mode": {
    "name": "ipython",
    "version": 2
   },
   "file_extension": ".py",
   "mimetype": "text/x-python",
   "name": "python",
   "nbconvert_exporter": "python",
   "pygments_lexer": "ipython2",
   "version": "2.7.15"
  }
 },
 "nbformat": 4,
 "nbformat_minor": 2
}
